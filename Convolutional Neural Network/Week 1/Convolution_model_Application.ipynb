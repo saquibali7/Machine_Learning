{
 "cells": [
  {
   "cell_type": "markdown",
   "metadata": {},
   "source": [
    "# Convolutional Neural Networks: Application\n",
    "\n",
    "Welcome to Course 4's second assignment! In this notebook, you will:\n",
    "\n",
    "- Create a mood classifer using the TF Keras Sequential API\n",
    "- Build a ConvNet to identify sign language digits using the TF Keras Functional API\n",
    "\n",
    "**After this assignment you will be able to:**\n",
    "\n",
    "- Build and train a ConvNet in TensorFlow for a __binary__ classification problem\n",
    "- Build and train a ConvNet in TensorFlow for a __multiclass__ classification problem\n",
    "- Explain different use cases for the Sequential and Functional APIs\n",
    "\n",
    "To complete this assignment, you should already be familiar with TensorFlow. If you are not, please refer back to the **TensorFlow Tutorial** of the third week of Course 2 (\"**Improving deep neural networks**\")."
   ]
  },
  {
   "cell_type": "markdown",
   "metadata": {},
   "source": [
    "## Table of Contents\n",
    "\n",
    "- [1 - Packages](#1)\n",
    "    - [1.1 - Load the Data and Split the Data into Train/Test Sets](#1-1)\n",
    "- [2 - Layers in TF Keras](#2)\n",
    "- [3 - The Sequential API](#3)\n",
    "    - [3.1 - Create the Sequential Model](#3-1)\n",
    "        - [Exercise 1 - happyModel](#ex-1)\n",
    "    - [3.2 - Train and Evaluate the Model](#3-2)\n",
    "- [4 - The Functional API](#4)\n",
    "    - [4.1 - Load the SIGNS Dataset](#4-1)\n",
    "    - [4.2 - Split the Data into Train/Test Sets](#4-2)\n",
    "    - [4.3 - Forward Propagation](#4-3)\n",
    "        - [Exercise 2 - convolutional_model](#ex-2)\n",
    "    - [4.4 - Train the Model](#4-4)\n",
    "- [5 - History Object](#5)\n",
    "- [6 - Bibliography](#6)"
   ]
  },
  {
   "cell_type": "markdown",
   "metadata": {},
   "source": [
    "<a name='1'></a>\n",
    "## 1 - Packages\n",
    "\n",
    "As usual, begin by loading in the packages."
   ]
  },
  {
   "cell_type": "code",
   "execution_count": 3,
   "metadata": {},
   "outputs": [],
   "source": [
    "import math\n",
    "import numpy as np\n",
    "import h5py\n",
    "import matplotlib.pyplot as plt\n",
    "from matplotlib.pyplot import imread\n",
    "import scipy\n",
    "from PIL import Image\n",
    "import pandas as pd\n",
    "import tensorflow as tf\n",
    "import tensorflow.keras.layers as tfl\n",
    "from tensorflow.python.framework import ops\n",
    "from cnn_utils import *\n",
    "from test_utils import summary, comparator\n",
    "\n",
    "%matplotlib inline\n",
    "np.random.seed(1)"
   ]
  },
  {
   "cell_type": "markdown",
   "metadata": {},
   "source": [
    "<a name='1-1'></a>\n",
    "### 1.1 - Load the Data and Split the Data into Train/Test Sets\n",
    "\n",
    "You'll be using the Happy House dataset for this part of the assignment, which contains images of peoples' faces. Your task will be to build a ConvNet that determines whether the people in the images are smiling or not -- because they only get to enter the house if they're smiling!  "
   ]
  },
  {
   "cell_type": "code",
   "execution_count": 4,
   "metadata": {},
   "outputs": [
    {
     "name": "stdout",
     "output_type": "stream",
     "text": [
      "number of training examples = 600\n",
      "number of test examples = 150\n",
      "X_train shape: (600, 64, 64, 3)\n",
      "Y_train shape: (600, 1)\n",
      "X_test shape: (150, 64, 64, 3)\n",
      "Y_test shape: (150, 1)\n"
     ]
    }
   ],
   "source": [
    "X_train_orig, Y_train_orig, X_test_orig, Y_test_orig, classes = load_happy_dataset()\n",
    "\n",
    "# Normalize image vectors\n",
    "X_train = X_train_orig/255.\n",
    "X_test = X_test_orig/255.\n",
    "\n",
    "# Reshape\n",
    "Y_train = Y_train_orig.T\n",
    "Y_test = Y_test_orig.T\n",
    "\n",
    "print (\"number of training examples = \" + str(X_train.shape[0]))\n",
    "print (\"number of test examples = \" + str(X_test.shape[0]))\n",
    "print (\"X_train shape: \" + str(X_train.shape))\n",
    "print (\"Y_train shape: \" + str(Y_train.shape))\n",
    "print (\"X_test shape: \" + str(X_test.shape))\n",
    "print (\"Y_test shape: \" + str(Y_test.shape))"
   ]
  },
  {
   "cell_type": "markdown",
   "metadata": {},
   "source": [
    "You can display the images contained in the dataset. Images are **64x64** pixels in RGB format (3 channels)."
   ]
  },
  {
   "cell_type": "code",
   "execution_count": 5,
   "metadata": {},
   "outputs": [
    {
     "data": {
      "image/png": "[encoded data removed]",
      "text/plain": [
       "<Figure size 432x288 with 1 Axes>"
      ]
     },
     "metadata": {
      "needs_background": "light"
     },
     "output_type": "display_data"
    }
   ],
   "source": [
    "index = 124\n",
    "plt.imshow(X_train_orig[index]) #display sample training image\n",
    "plt.show()"
   ]
  },
  {
   "cell_type": "markdown",
   "metadata": {},
   "source": [
    "\n",
    "<a name='2'></a>\n",
    "## 2 - Layers in TF Keras \n",
    "\n",
    "In the previous assignment, you created layers manually in numpy. In TF Keras, you don't have to write code directly to create layers. Rather, TF Keras has pre-defined layers you can use. \n",
    "\n",
    "When you create a layer in TF Keras, you are creating a function that takes some input and transforms it into an output you can reuse later. Nice and easy! "
   ]
  },
  {
   "cell_type": "markdown",
   "metadata": {},
   "source": [
    "\n",
    "<a name='3'></a>\n",
    "## 3 - The Sequential API\n",
    "\n",
    "In the previous assignment, you built helper functions using `numpy` to understand the mechanics behind convolutional neural networks. Most practical applications of deep learning today are built using programming frameworks, which have many built-in functions you can simply call. Keras is a high-level abstraction built on top of TensorFlow, which allows for even more simplified and optimized model creation and training. \n",
    "\n",
    "For the first part of this assignment, you'll create a model using TF Keras' Sequential API, which allows you to build layer by layer, and is ideal for building models where each layer has **exactly one** input tensor and **one** output tensor. \n",
    "\n",
    "As you'll see, using the Sequential API is simple and straightforward, but is only appropriate for simpler, more straightforward tasks. Later in this notebook you'll spend some time building with a more flexible, powerful alternative: the Functional API. \n",
    " "
   ]
  },
  {
   "cell_type": "markdown",
   "metadata": {},
   "source": [
    "<a name='3-1'></a>\n",
    "### 3.1 - Create the Sequential Model\n",
    "\n",
    "As mentioned earlier, the TensorFlow Keras Sequential API can be used to build simple models with layer operations that proceed in a sequential order. \n",
    "\n",
    "You can also add layers incrementally to a Sequential model with the `.add()` method, or remove them using the `.pop()` method, much like you would in a regular Python list.\n",
    "\n",
    "Actually, you can think of a Sequential model as behaving like a list of layers. Like Python lists, Sequential layers are ordered, and the order in which they are specified matters.  If your model is non-linear or contains layers with multiple inputs or outputs, a Sequential model wouldn't be the right choice!\n",
    "\n",
    "For any layer construction in Keras, you'll need to specify the input shape in advance. This is because in Keras, the shape of the weights is based on the shape of the inputs. The weights are only created when the model first sees some input data. Sequential models can be created by passing a list of layers to the Sequential constructor, like you will do in the next assignment.\n",
    "\n",
    "<a name='ex-1'></a>\n",
    "### Exercise 1 - happyModel\n",
    "\n",
    "Implement the `happyModel` function below to build the following model: `ZEROPAD2D -> CONV2D -> BATCHNORM -> RELU -> MAXPOOL -> FLATTEN -> DENSE`. Take help from [tf.keras.layers](https://www.tensorflow.org/api_docs/python/tf/keras/layers) \n",
    "\n",
    "Also, plug in the following parameters for all the steps:\n",
    "\n",
    " - [ZeroPadding2D](https://www.tensorflow.org/api_docs/python/tf/keras/layers/ZeroPadding2D): padding 3, input shape 64 x 64 x 3\n",
    " - [Conv2D](https://www.tensorflow.org/api_docs/python/tf/keras/layers/Conv2D): Use 32 7x7 filters, stride 1\n",
    " - [BatchNormalization](https://www.tensorflow.org/api_docs/python/tf/keras/layers/BatchNormalization): for axis 3\n",
    " - [ReLU](https://www.tensorflow.org/api_docs/python/tf/keras/layers/ReLU)\n",
    " - [MaxPool2D](https://www.tensorflow.org/api_docs/python/tf/keras/layers/MaxPool2D): Using default parameters\n",
    " - [Flatten](https://www.tensorflow.org/api_docs/python/tf/keras/layers/Flatten) the previous output.\n",
    " - Fully-connected ([Dense](https://www.tensorflow.org/api_docs/python/tf/keras/layers/Dense)) layer: Apply a fully connected layer with 1 neuron and a sigmoid activation. \n",
    " \n",
    " \n",
    " **Hint:**\n",
    " \n",
    " Use **tfl** as shorthand for **tensorflow.keras.layers**"
   ]
  },
  {
   "cell_type": "code",
   "execution_count": 11,
   "metadata": {
    "deletable": false,
    "nbgrader": {
     "cell_type": "code",
     "checksum": "95d28b191f257bdd5b70c7b8952559d5",
     "grade": false,
     "grade_id": "cell-0e56d3fc28b69aec",
     "locked": false,
     "schema_version": 3,
     "solution": true,
     "task": false
    }
   },
   "outputs": [],
   "source": [
    "# GRADED FUNCTION: happyModel\n",
    "\n",
    "def happyModel():\n",
    "    \"\"\"\n",
    "    Implements the forward propagation for the binary classification model:\n",
    "    ZEROPAD2D -> CONV2D -> BATCHNORM -> RELU -> MAXPOOL -> FLATTEN -> DENSE\n",
    "    \n",
    "    Note that for simplicity and grading purposes, you'll hard-code all the values\n",
    "    such as the stride and kernel (filter) sizes. \n",
    "    Normally, functions should take these values as function parameters.\n",
    "    \n",
    "    Arguments:\n",
    "    None\n",
    "\n",
    "    Returns:\n",
    "    model -- TF Keras model (object containing the information for the entire training process) \n",
    "    \"\"\"\n",
    "    model = tf.keras.Sequential([\n",
    "            ## ZeroPadding2D with padding 3, input shape of 64 x 64 x 3\n",
    "            \n",
    "            ## Conv2D with 32 7x7 filters and stride of 1\n",
    "            \n",
    "            ## BatchNormalization for axis 3\n",
    "            \n",
    "            ## ReLU\n",
    "            \n",
    "            ## Max Pooling 2D with default parameters\n",
    "            \n",
    "            ## Flatten layer\n",
    "            \n",
    "            ## Dense layer with 1 unit for output & 'sigmoid' activation\n",
    "            \n",
    "            # YOUR CODE STARTS HERE\n",
    "            tf.keras.layers.ZeroPadding2D(padding = (3,3), input_shape = (64,64,3)),\n",
    "            tf.keras.layers.Conv2D(32, (7,7), strides= (1,1)),\n",
    "            tf.keras.layers.BatchNormalization(axis=3),\n",
    "            tf.keras.layers.ReLU(),\n",
    "            tf.keras.layers.MaxPool2D(pool_size=(2, 2), padding='valid'),\n",
    "            tf.keras.layers.Flatten(),\n",
    "            tf.keras.layers.Dense(1, activation=\"sigmoid\")\n",
    "            \n",
    "            # YOUR CODE ENDS HERE\n",
    "        ])\n",
    "    \n",
    "    return model"
   ]
  },
  {
   "cell_type": "code",
   "execution_count": 12,
   "metadata": {
    "deletable": false,
    "editable": false,
    "nbgrader": {
     "cell_type": "code",
     "checksum": "8d3575c950e2e78149be2d05d671c80d",
     "grade": true,
     "grade_id": "cell-e3e1046e5c33d775",
     "locked": true,
     "points": 10,
     "schema_version": 3,
     "solution": false,
     "task": false
    }
   },
   "outputs": [
    {
     "name": "stdout",
     "output_type": "stream",
     "text": [
      "['ZeroPadding2D', (None, 70, 70, 3), 0, ((3, 3), (3, 3))]\n",
      "['Conv2D', (None, 64, 64, 32), 4736, 'valid', 'linear', 'GlorotUniform']\n",
      "['BatchNormalization', (None, 64, 64, 32), 128]\n",
      "['ReLU', (None, 64, 64, 32), 0]\n",
      "['MaxPooling2D', (None, 32, 32, 32), 0, (2, 2), (2, 2), 'valid']\n",
      "['Flatten', (None, 32768), 0]\n",
      "['Dense', (None, 1), 32769, 'sigmoid']\n",
      "\u001b[32mAll tests passed!\u001b[0m\n"
     ]
    }
   ],
   "source": [
    "happy_model = happyModel()\n",
    "# Print a summary for each layer\n",
    "for layer in summary(happy_model):\n",
    "    print(layer)\n",
    "    \n",
    "output = [['ZeroPadding2D', (None, 70, 70, 3), 0, ((3, 3), (3, 3))],\n",
    "            ['Conv2D', (None, 64, 64, 32), 4736, 'valid', 'linear', 'GlorotUniform'],\n",
    "            ['BatchNormalization', (None, 64, 64, 32), 128],\n",
    "            ['ReLU', (None, 64, 64, 32), 0],\n",
    "            ['MaxPooling2D', (None, 32, 32, 32), 0, (2, 2), (2, 2), 'valid'],\n",
    "            ['Flatten', (None, 32768), 0],\n",
    "            ['Dense', (None, 1), 32769, 'sigmoid']]\n",
    "    \n",
    "comparator(summary(happy_model), output)"
   ]
  },
  {
   "cell_type": "markdown",
   "metadata": {},
   "source": [
    "Now that your model is created, you can compile it for training with an optimizer and loss of your choice. When the string `accuracy` is specified as a metric, the type of accuracy used will be automatically converted based on the loss function used. This is one of the many optimizations built into TensorFlow that make your life easier! If you'd like to read more on how the compiler operates, check the docs [here](https://www.tensorflow.org/api_docs/python/tf/keras/Model#compile)."
   ]
  },
  {
   "cell_type": "code",
   "execution_count": 13,
   "metadata": {},
   "outputs": [],
   "source": [
    "happy_model.compile(optimizer='adam',\n",
    "                   loss='binary_crossentropy',\n",
    "                   metrics=['accuracy'])"
   ]
  },
  {
   "cell_type": "markdown",
   "metadata": {},
   "source": [
    "It's time to check your model's parameters with the `.summary()` method. This will display the types of layers you have, the shape of the outputs, and how many parameters are in each layer. "
   ]
  },
  {
   "cell_type": "code",
   "execution_count": 14,
   "metadata": {},
   "outputs": [
    {
     "name": "stdout",
     "output_type": "stream",
     "text": [
      "Model: \"sequential\"\n",
      "_________________________________________________________________\n",
      "Layer (type)                 Output Shape              Param #   \n",
      "=================================================================\n",
      "zero_padding2d_2 (ZeroPaddin (None, 70, 70, 3)         0         \n",
      "_________________________________________________________________\n",
      "conv2d_1 (Conv2D)            (None, 64, 64, 32)        4736      \n",
      "_________________________________________________________________\n",
      "batch_normalization_1 (Batch (None, 64, 64, 32)        128       \n",
      "_________________________________________________________________\n",
      "re_lu (ReLU)                 (None, 64, 64, 32)        0         \n",
      "_________________________________________________________________\n",
      "max_pooling2d (MaxPooling2D) (None, 32, 32, 32)        0         \n",
      "_________________________________________________________________\n",
      "flatten (Flatten)            (None, 32768)             0         \n",
      "_________________________________________________________________\n",
      "dense (Dense)                (None, 1)                 32769     \n",
      "=================================================================\n",
      "Total params: 37,633\n",
      "Trainable params: 37,569\n",
      "Non-trainable params: 64\n",
      "_________________________________________________________________\n"
     ]
    }
   ],
   "source": [
    "happy_model.summary()"
   ]
  },
  {
   "cell_type": "markdown",
   "metadata": {},
   "source": [
    "<a name='3-2'></a>\n",
    "### 3.2 - Train and Evaluate the Model\n",
    "\n",
    "After creating the model, compiling it with your choice of optimizer and loss function, and doing a sanity check on its contents, you are now ready to build! \n",
    "\n",
    "Simply call `.fit()` to train. That's it! No need for mini-batching, saving, or complex backpropagation computations. That's all been done for you, as you're using a TensorFlow dataset with the batches specified already. You do have the option to specify epoch number or minibatch size if you like (for example, in the case of an un-batched dataset)."
   ]
  },
  {
   "cell_type": "code",
   "execution_count": 15,
   "metadata": {},
   "outputs": [
    {
     "name": "stdout",
     "output_type": "stream",
     "text": [
      "Epoch 1/10\n",
      "38/38 [==============================] - 4s 105ms/step - loss: 1.0100 - accuracy: 0.7217\n",
      "Epoch 2/10\n",
      "38/38 [==============================] - 4s 97ms/step - loss: 0.2850 - accuracy: 0.8883\n",
      "Epoch 3/10\n",
      "38/38 [==============================] - 4s 97ms/step - loss: 0.1566 - accuracy: 0.9433\n",
      "Epoch 4/10\n",
      "38/38 [==============================] - 4s 97ms/step - loss: 0.1184 - accuracy: 0.9667\n",
      "Epoch 5/10\n",
      "38/38 [==============================] - 4s 97ms/step - loss: 0.1049 - accuracy: 0.9517\n",
      "Epoch 6/10\n",
      "38/38 [==============================] - 4s 97ms/step - loss: 0.2088 - accuracy: 0.9350\n",
      "Epoch 7/10\n",
      "38/38 [==============================] - 4s 97ms/step - loss: 0.0820 - accuracy: 0.9750\n",
      "Epoch 8/10\n",
      "38/38 [==============================] - 4s 97ms/step - loss: 0.1101 - accuracy: 0.9633\n",
      "Epoch 9/10\n",
      "38/38 [==============================] - 4s 97ms/step - loss: 0.0600 - accuracy: 0.9833\n",
      "Epoch 10/10\n",
      "38/38 [==============================] - 4s 98ms/step - loss: 0.1218 - accuracy: 0.9567\n"
     ]
    },
    {
     "data": {
      "text/plain": [
       "<tensorflow.python.keras.callbacks.History at 0x7f0af9965490>"
      ]
     },
     "execution_count": 15,
     "metadata": {},
     "output_type": "execute_result"
    }
   ],
   "source": [
    "happy_model.fit(X_train, Y_train, epochs=10, batch_size=16)"
   ]
  },
  {
   "cell_type": "markdown",
   "metadata": {},
   "source": [
    "After that completes, just use `.evaluate()` to evaluate against your test set. This function will print the value of the loss function and the performance metrics specified during the compilation of the model. In this case, the `binary_crossentropy` and the `accuracy` respectively."
   ]
  },
  {
   "cell_type": "code",
   "execution_count": 17,
   "metadata": {},
   "outputs": [
    {
     "name": "stdout",
     "output_type": "stream",
     "text": [
      "5/5 [==============================] - 0s 40ms/step - loss: 0.1121 - accuracy: 0.9667\n"
     ]
    },
    {
     "data": {
      "text/plain": [
       "[0.11206189543008804, 0.9666666388511658]"
      ]
     },
     "execution_count": 17,
     "metadata": {},
     "output_type": "execute_result"
    }
   ],
   "source": [
    "happy_model.evaluate(X_test, Y_test)"
   ]
  },
  {
   "cell_type": "markdown",
   "metadata": {},
   "source": [
    "Easy, right? But what if you need to build a model with shared layers, branches, or multiple inputs and outputs? This is where Sequential, with its beautifully simple yet limited functionality, won't be able to help you. \n",
    "\n",
    "Next up: Enter the Functional API, your slightly more complex, highly flexible friend.  "
   ]
  },
  {
   "cell_type": "markdown",
   "metadata": {},
   "source": [
    "<a name='4'></a>\n",
    "## 4 - The Functional API"
   ]
  },
  {
   "cell_type": "markdown",
   "metadata": {},
   "source": [
    "Welcome to the second half of the assignment, where you'll use Keras' flexible [Functional API](https://www.tensorflow.org/guide/keras/functional) to build a ConvNet that can differentiate between 6 sign language digits. \n",
    "\n",
    "The Functional API can handle models with non-linear topology, shared layers, as well as layers with multiple inputs or outputs. Imagine that, where the Sequential API requires the model to move in a linear fashion through its layers, the Functional API allows much more flexibility. Where Sequential is a straight line, a Functional model is a graph, where the nodes of the layers can connect in many more ways than one. \n",
    "\n",
    "In the visual example below, the one possible direction of the movement Sequential model is shown in contrast to a skip connection, which is just one of the many ways a Functional model can be constructed. A skip connection, as you might have guessed, skips some layer in the network and feeds the output to a later layer in the network. Don't worry, you'll be spending more time with skip connections very soon! "
   ]
  },
  {
   "cell_type": "markdown",
   "metadata": {},
   "source": [
    "<img src=\"images/seq_vs_func.png\" style=\"width:350px;height:200px;\">"
   ]
  },
  {
   "cell_type": "markdown",
   "metadata": {},
   "source": [
    "<a name='4-1'></a>\n",
    "### 4.1 - Load the SIGNS Dataset\n",
    "\n",
    "As a reminder, the SIGNS dataset is a collection of 6 signs representing numbers from 0 to 5."
   ]
  },
  {
   "cell_type": "code",
   "execution_count": 24,
   "metadata": {},
   "outputs": [],
   "source": [
    "# Loading the data (signs)\n",
    "X_train_orig, Y_train_orig, X_test_orig, Y_test_orig, classes = load_signs_dataset()"
   ]
  },
  {
   "cell_type": "markdown",
   "metadata": {},
   "source": [
    "<img src=\"images/SIGNS.png\" style=\"width:800px;height:300px;\">\n",
    "\n",
    "The next cell will show you an example of a labelled image in the dataset. Feel free to change the value of `index` below and re-run to see different examples. "
   ]
  },
  {
   "cell_type": "code",
   "execution_count": 25,
   "metadata": {},
   "outputs": [
    {
     "name": "stdout",
     "output_type": "stream",
     "text": [
      "y = 4\n"
     ]
    },
    {
     "data": {
      "image/png": "[encoded data removed]",
      "text/plain": [
       "<Figure size 432x288 with 1 Axes>"
      ]
     },
     "metadata": {
      "needs_background": "light"
     },
     "output_type": "display_data"
    }
   ],
   "source": [
    "# Example of an image from the dataset\n",
    "index = 9\n",
    "plt.imshow(X_train_orig[index])\n",
    "print (\"y = \" + str(np.squeeze(Y_train_orig[:, index])))"
   ]
  },
  {
   "cell_type": "markdown",
   "metadata": {},
   "source": [
    "<a name='4-2'></a>\n",
    "### 4.2 - Split the Data into Train/Test Sets\n",
    "\n",
    "In Course 2, you built a fully-connected network for this dataset. But since this is an image dataset, it is more natural to apply a ConvNet to it.\n",
    "\n",
    "To get started, let's examine the shapes of your data. "
   ]
  },
  {
   "cell_type": "code",
   "execution_count": 18,
   "metadata": {},
   "outputs": [
    {
     "name": "stdout",
     "output_type": "stream",
     "text": [
      "number of training examples = 600\n",
      "number of test examples = 150\n",
      "X_train shape: (600, 64, 64, 3)\n",
      "Y_train shape: (600, 6)\n",
      "X_test shape: (150, 64, 64, 3)\n",
      "Y_test shape: (150, 6)\n"
     ]
    }
   ],
   "source": [
    "X_train = X_train_orig/255.\n",
    "X_test = X_test_orig/255.\n",
    "Y_train = convert_to_one_hot(Y_train_orig, 6).T\n",
    "Y_test = convert_to_one_hot(Y_test_orig, 6).T\n",
    "print (\"number of training examples = \" + str(X_train.shape[0]))\n",
    "print (\"number of test examples = \" + str(X_test.shape[0]))\n",
    "print (\"X_train shape: \" + str(X_train.shape))\n",
    "print (\"Y_train shape: \" + str(Y_train.shape))\n",
    "print (\"X_test shape: \" + str(X_test.shape))\n",
    "print (\"Y_test shape: \" + str(Y_test.shape))"
   ]
  },
  {
   "cell_type": "markdown",
   "metadata": {},
   "source": [
    "<a name='4-3'></a>\n",
    "### 4.3 - Forward Propagation\n",
    "\n",
    "In TensorFlow, there are built-in functions that implement the convolution steps for you. By now, you should be familiar with how TensorFlow builds computational graphs. In the [Functional API](https://www.tensorflow.org/guide/keras/functional), you create a graph of layers. This is what allows such great flexibility.\n",
    "\n",
    "However, the following model could also be defined using the Sequential API since the information flow is on a single line. But don't deviate. What we want you to learn is to use the functional API.\n",
    "\n",
    "Begin building your graph of layers by creating an input node that functions as a callable object:\n",
    "\n",
    "- **input_img = tf.keras.Input(shape=input_shape):** \n",
    "\n",
    "Then, create a new node in the graph of layers by calling a layer on the `input_img` object: \n",
    "\n",
    "- **tf.keras.layers.Conv2D(filters= ... , kernel_size= ... , padding='same')(input_img):** Read the full documentation on [Conv2D](https://www.tensorflow.org/api_docs/python/tf/keras/layers/Conv2D).\n",
    "\n",
    "- **tf.keras.layers.MaxPool2D(pool_size=(f, f), strides=(s, s), padding='same'):** `MaxPool2D()` downsamples your input using a window of size (f, f) and strides of size (s, s) to carry out max pooling over each window.  For max pooling, you usually operate on a single example at a time and a single channel at a time. Read the full documentation on [MaxPool2D](https://www.tensorflow.org/api_docs/python/tf/keras/layers/MaxPool2D).\n",
    "\n",
    "- **tf.keras.layers.ReLU():** computes the elementwise ReLU of Z (which can be any shape). You can read the full documentation on [ReLU](https://www.tensorflow.org/api_docs/python/tf/keras/layers/ReLU).\n",
    "\n",
    "- **tf.keras.layers.Flatten()**: given a tensor \"P\", this function takes each training (or test) example in the batch and flattens it into a 1D vector.  \n",
    "\n",
    "    * If a tensor P has the shape (batch_size,h,w,c), it returns a flattened tensor with shape (batch_size, k), where $k=h \\times w \\times c$.  \"k\" equals the product of all the dimension sizes other than the first dimension.\n",
    "    \n",
    "    * For example, given a tensor with dimensions [100, 2, 3, 4], it flattens the tensor to be of shape [100, 24], where 24 = 2 * 3 * 4.  You can read the full documentation on [Flatten](https://www.tensorflow.org/api_docs/python/tf/keras/layers/Flatten).\n",
    "\n",
    "- **tf.keras.layers.Dense(units= ... , activation='softmax')(F):** given the flattened input F, it returns the output computed using a fully connected layer. You can read the full documentation on [Dense](https://www.tensorflow.org/api_docs/python/tf/keras/layers/Dense).\n",
    "\n",
    "In the last function above (`tf.keras.layers.Dense()`), the fully connected layer automatically initializes weights in the graph and keeps on training them as you train the model. Hence, you did not need to initialize those weights when initializing the parameters.\n",
    "\n",
    "Lastly, before creating the model, you'll need to define the output using the last of the function's compositions (in this example, a Dense layer): \n",
    "\n",
    "- **outputs = tf.keras.layers.Dense(units=6, activation='softmax')(F)**\n",
    "\n",
    "\n",
    "#### Window, kernel, filter, pool\n",
    "\n",
    "The words \"kernel\" and \"filter\" are used to refer to the same thing. The word \"filter\" accounts for the amount of \"kernels\" that will be used in a single convolution layer. \"Pool\" is the name of the operation that takes the max or average value of the kernels. \n",
    "\n",
    "This is why the parameter `pool_size` refers to `kernel_size`, and you use `(f,f)` to refer to the filter size. \n",
    "\n",
    "Pool size and kernel size refer to the same thing in different objects - They refer to the shape of the window where the operation takes place. "
   ]
  },
  {
   "cell_type": "markdown",
   "metadata": {},
   "source": [
    "<a name='ex-2'></a>\n",
    "### Exercise 2 - convolutional_model\n",
    "\n",
    "Implement the `convolutional_model` function below to build the following model: `CONV2D -> RELU -> MAXPOOL -> CONV2D -> RELU -> MAXPOOL -> FLATTEN -> DENSE`. Use the functions above! \n",
    "\n",
    "Also, plug in the following parameters for all the steps:\n",
    "\n",
    " - [Conv2D](https://www.tensorflow.org/api_docs/python/tf/keras/layers/Conv2D): Use 8 4 by 4 filters, stride 1, padding is \"SAME\"\n",
    " - [ReLU](https://www.tensorflow.org/api_docs/python/tf/keras/layers/ReLU)\n",
    " - [MaxPool2D](https://www.tensorflow.org/api_docs/python/tf/keras/layers/MaxPool2D): Use an 8 by 8 filter size and an 8 by 8 stride, padding is \"SAME\"\n",
    " - **Conv2D**: Use 16 2 by 2 filters, stride 1, padding is \"SAME\"\n",
    " - **ReLU**\n",
    " - **MaxPool2D**: Use a 4 by 4 filter size and a 4 by 4 stride, padding is \"SAME\"\n",
    " - [Flatten](https://www.tensorflow.org/api_docs/python/tf/keras/layers/Flatten) the previous output.\n",
    " - Fully-connected ([Dense](https://www.tensorflow.org/api_docs/python/tf/keras/layers/Dense)) layer: Apply a fully connected layer with 6 neurons and a softmax activation. "
   ]
  },
  {
   "cell_type": "code",
   "execution_count": 33,
   "metadata": {
    "deletable": false,
    "nbgrader": {
     "cell_type": "code",
     "checksum": "f58643806aa8380c96225fc8b4c5e7aa",
     "grade": false,
     "grade_id": "cell-dac51744a9e03f51",
     "locked": false,
     "schema_version": 3,
     "solution": true,
     "task": false
    }
   },
   "outputs": [],
   "source": [
    "# GRADED FUNCTION: convolutional_model\n",
    "\n",
    "def convolutional_model(input_shape):\n",
    "    \"\"\"\n",
    "    Implements the forward propagation for the model:\n",
    "    CONV2D -> RELU -> MAXPOOL -> CONV2D -> RELU -> MAXPOOL -> FLATTEN -> DENSE\n",
    "    \n",
    "    Note that for simplicity and grading purposes, you'll hard-code some values\n",
    "    such as the stride and kernel (filter) sizes. \n",
    "    Normally, functions should take these values as function parameters.\n",
    "    \n",
    "    Arguments:\n",
    "    input_img -- input dataset, of shape (input_shape)\n",
    "\n",
    "    Returns:\n",
    "    model -- TF Keras model (object containing the information for the entire training process) \n",
    "    \"\"\"\n",
    "\n",
    "    input_img = tf.keras.Input(shape=input_shape)\n",
    "    ## CONV2D: 8 filters 4x4, stride of 1, padding 'SAME'\n",
    "    # Z1 = None\n",
    "    ## RELU\n",
    "    # A1 = None\n",
    "    ## MAXPOOL: window 8x8, stride 8, padding 'SAME'\n",
    "    # P1 = None\n",
    "    ## CONV2D: 16 filters 2x2, stride 1, padding 'SAME'\n",
    "    # Z2 = None\n",
    "    ## RELU\n",
    "    # A2 = None\n",
    "    ## MAXPOOL: window 4x4, stride 4, padding 'SAME'\n",
    "    # P2 = None\n",
    "    ## FLATTEN\n",
    "    # F = None\n",
    "    ## Dense layer\n",
    "    ## 6 neurons in output layer. Hint: one of the arguments should be \"activation='softmax'\" \n",
    "    # outputs = None\n",
    "    # YOUR CODE STARTS HERE\n",
    "    Z1 = tf.keras.layers.Conv2D(8, 4, strides=(1, 1), padding='SAME')(input_img)\n",
    "    A1 = tf.keras.layers.ReLU()(Z1)\n",
    "    P1 = tf.keras.layers.MaxPool2D(pool_size=(8, 8), strides = (8,8), padding='SAME')(A1)\n",
    "    Z2 = tf.keras.layers.Conv2D(16, 2, strides = (1,1), padding='SAME')(P1)\n",
    "    A2 = tf.keras.layers.ReLU()(Z2)\n",
    "    P2 = tf.keras.layers.MaxPool2D(pool_size=(4, 4),strides = (4,4), padding='SAME')(A2)\n",
    "    F = tf.keras.layers.Flatten()(P2)\n",
    "    outputs = tfl.Dense(6, activation=\"softmax\")(F)\n",
    "    \n",
    "    # YOUR CODE ENDS HERE\n",
    "    model = tf.keras.Model(inputs=input_img, outputs=outputs)\n",
    "    return model"
   ]
  },
  {
   "cell_type": "code",
   "execution_count": 34,
   "metadata": {
    "deletable": false,
    "editable": false,
    "nbgrader": {
     "cell_type": "code",
     "checksum": "483d626949930a0b0ef20997e7c6ba72",
     "grade": true,
     "grade_id": "cell-45d22e92042174c9",
     "locked": true,
     "points": 10,
     "schema_version": 3,
     "solution": false,
     "task": false
    }
   },
   "outputs": [
    {
     "name": "stdout",
     "output_type": "stream",
     "text": [
      "Model: \"functional_5\"\n",
      "_________________________________________________________________\n",
      "Layer (type)                 Output Shape              Param #   \n",
      "=================================================================\n",
      "input_8 (InputLayer)         [(None, 64, 64, 3)]       0         \n",
      "_________________________________________________________________\n",
      "conv2d_16 (Conv2D)           (None, 64, 64, 8)         392       \n",
      "_________________________________________________________________\n",
      "re_lu_15 (ReLU)              (None, 64, 64, 8)         0         \n",
      "_________________________________________________________________\n",
      "max_pooling2d_15 (MaxPooling (None, 8, 8, 8)           0         \n",
      "_________________________________________________________________\n",
      "conv2d_17 (Conv2D)           (None, 8, 8, 16)          528       \n",
      "_________________________________________________________________\n",
      "re_lu_16 (ReLU)              (None, 8, 8, 16)          0         \n",
      "_________________________________________________________________\n",
      "max_pooling2d_16 (MaxPooling (None, 2, 2, 16)          0         \n",
      "_________________________________________________________________\n",
      "flatten_8 (Flatten)          (None, 64)                0         \n",
      "_________________________________________________________________\n",
      "dense_8 (Dense)              (None, 6)                 390       \n",
      "=================================================================\n",
      "Total params: 1,310\n",
      "Trainable params: 1,310\n",
      "Non-trainable params: 0\n",
      "_________________________________________________________________\n",
      "\u001b[32mAll tests passed!\u001b[0m\n"
     ]
    }
   ],
   "source": [
    "conv_model = convolutional_model((64, 64, 3))\n",
    "conv_model.compile(optimizer='adam',\n",
    "                  loss='categorical_crossentropy',\n",
    "                  metrics=['accuracy'])\n",
    "conv_model.summary()\n",
    "    \n",
    "output = [['InputLayer', [(None, 64, 64, 3)], 0],\n",
    "        ['Conv2D', (None, 64, 64, 8), 392, 'same', 'linear', 'GlorotUniform'],\n",
    "        ['ReLU', (None, 64, 64, 8), 0],\n",
    "        ['MaxPooling2D', (None, 8, 8, 8), 0, (8, 8), (8, 8), 'same'],\n",
    "        ['Conv2D', (None, 8, 8, 16), 528, 'same', 'linear', 'GlorotUniform'],\n",
    "        ['ReLU', (None, 8, 8, 16), 0],\n",
    "        ['MaxPooling2D', (None, 2, 2, 16), 0, (4, 4), (4, 4), 'same'],\n",
    "        ['Flatten', (None, 64), 0],\n",
    "        ['Dense', (None, 6), 390, 'softmax']]\n",
    "    \n",
    "comparator(summary(conv_model), output)"
   ]
  },
  {
   "cell_type": "markdown",
   "metadata": {},
   "source": [
    "Both the Sequential and Functional APIs return a TF Keras model object. The only difference is how inputs are handled inside the object model! "
   ]
  },
  {
   "cell_type": "markdown",
   "metadata": {},
   "source": [
    "<a name='4-4'></a>\n",
    "### 4.4 - Train the Model"
   ]
  },
  {
   "cell_type": "code",
   "execution_count": 35,
   "metadata": {},
   "outputs": [
    {
     "name": "stdout",
     "output_type": "stream",
     "text": [
      "Epoch 1/100\n",
      "10/10 [==============================] - 1s 110ms/step - loss: 1.6814 - accuracy: 0.5000 - val_loss: 1.3597 - val_accuracy: 0.4400\n",
      "Epoch 2/100\n",
      "10/10 [==============================] - 1s 101ms/step - loss: 1.1443 - accuracy: 0.5017 - val_loss: 0.9520 - val_accuracy: 0.4733\n",
      "Epoch 3/100\n",
      "10/10 [==============================] - 1s 102ms/step - loss: 0.8415 - accuracy: 0.5100 - val_loss: 0.7255 - val_accuracy: 0.5867\n",
      "Epoch 4/100\n",
      "10/10 [==============================] - 1s 100ms/step - loss: 0.7190 - accuracy: 0.5233 - val_loss: 0.6832 - val_accuracy: 0.6000\n",
      "Epoch 5/100\n",
      "10/10 [==============================] - 1s 109ms/step - loss: 0.6910 - accuracy: 0.5533 - val_loss: 0.6696 - val_accuracy: 0.6333\n",
      "Epoch 6/100\n",
      "10/10 [==============================] - 1s 101ms/step - loss: 0.6824 - accuracy: 0.5650 - val_loss: 0.6654 - val_accuracy: 0.6333\n",
      "Epoch 7/100\n",
      "10/10 [==============================] - 1s 100ms/step - loss: 0.6767 - accuracy: 0.5783 - val_loss: 0.6580 - val_accuracy: 0.6467\n",
      "Epoch 8/100\n",
      "10/10 [==============================] - 1s 110ms/step - loss: 0.6711 - accuracy: 0.6150 - val_loss: 0.6543 - val_accuracy: 0.6600\n",
      "Epoch 9/100\n",
      "10/10 [==============================] - 1s 101ms/step - loss: 0.6669 - accuracy: 0.6067 - val_loss: 0.6489 - val_accuracy: 0.6800\n",
      "Epoch 10/100\n",
      "10/10 [==============================] - 1s 101ms/step - loss: 0.6628 - accuracy: 0.6283 - val_loss: 0.6463 - val_accuracy: 0.7000\n",
      "Epoch 11/100\n",
      "10/10 [==============================] - 1s 101ms/step - loss: 0.6590 - accuracy: 0.6383 - val_loss: 0.6418 - val_accuracy: 0.7133\n",
      "Epoch 12/100\n",
      "10/10 [==============================] - 1s 107ms/step - loss: 0.6549 - accuracy: 0.6483 - val_loss: 0.6391 - val_accuracy: 0.7067\n",
      "Epoch 13/100\n",
      "10/10 [==============================] - 1s 110ms/step - loss: 0.6511 - accuracy: 0.6533 - val_loss: 0.6355 - val_accuracy: 0.7200\n",
      "Epoch 14/100\n",
      "10/10 [==============================] - 1s 100ms/step - loss: 0.6469 - accuracy: 0.6617 - val_loss: 0.6319 - val_accuracy: 0.7333\n",
      "Epoch 15/100\n",
      "10/10 [==============================] - 1s 110ms/step - loss: 0.6426 - accuracy: 0.6717 - val_loss: 0.6282 - val_accuracy: 0.7467\n",
      "Epoch 16/100\n",
      "10/10 [==============================] - 1s 101ms/step - loss: 0.6382 - accuracy: 0.6667 - val_loss: 0.6248 - val_accuracy: 0.7533\n",
      "Epoch 17/100\n",
      "10/10 [==============================] - 1s 100ms/step - loss: 0.6340 - accuracy: 0.6800 - val_loss: 0.6215 - val_accuracy: 0.7600\n",
      "Epoch 18/100\n",
      "10/10 [==============================] - 1s 110ms/step - loss: 0.6293 - accuracy: 0.6967 - val_loss: 0.6175 - val_accuracy: 0.7600\n",
      "Epoch 19/100\n",
      "10/10 [==============================] - 1s 110ms/step - loss: 0.6246 - accuracy: 0.6967 - val_loss: 0.6135 - val_accuracy: 0.7667\n",
      "Epoch 20/100\n",
      "10/10 [==============================] - 1s 100ms/step - loss: 0.6195 - accuracy: 0.7050 - val_loss: 0.6097 - val_accuracy: 0.7667\n",
      "Epoch 21/100\n",
      "10/10 [==============================] - 1s 101ms/step - loss: 0.6148 - accuracy: 0.7083 - val_loss: 0.6072 - val_accuracy: 0.7600\n",
      "Epoch 22/100\n",
      "10/10 [==============================] - 1s 100ms/step - loss: 0.6098 - accuracy: 0.7133 - val_loss: 0.6035 - val_accuracy: 0.7667\n",
      "Epoch 23/100\n",
      "10/10 [==============================] - 1s 109ms/step - loss: 0.6050 - accuracy: 0.7133 - val_loss: 0.6007 - val_accuracy: 0.7600\n",
      "Epoch 24/100\n",
      "10/10 [==============================] - 1s 101ms/step - loss: 0.5996 - accuracy: 0.7283 - val_loss: 0.5954 - val_accuracy: 0.7667\n",
      "Epoch 25/100\n",
      "10/10 [==============================] - 1s 100ms/step - loss: 0.5937 - accuracy: 0.7283 - val_loss: 0.5919 - val_accuracy: 0.7600\n",
      "Epoch 26/100\n",
      "10/10 [==============================] - 1s 101ms/step - loss: 0.5881 - accuracy: 0.7417 - val_loss: 0.5894 - val_accuracy: 0.7533\n",
      "Epoch 27/100\n",
      "10/10 [==============================] - 1s 101ms/step - loss: 0.5834 - accuracy: 0.7367 - val_loss: 0.5872 - val_accuracy: 0.7533\n",
      "Epoch 28/100\n",
      "10/10 [==============================] - 1s 101ms/step - loss: 0.5779 - accuracy: 0.7417 - val_loss: 0.5822 - val_accuracy: 0.7600\n",
      "Epoch 29/100\n",
      "10/10 [==============================] - 1s 101ms/step - loss: 0.5722 - accuracy: 0.7450 - val_loss: 0.5799 - val_accuracy: 0.7400\n",
      "Epoch 30/100\n",
      "10/10 [==============================] - 1s 100ms/step - loss: 0.5670 - accuracy: 0.7550 - val_loss: 0.5766 - val_accuracy: 0.7533\n",
      "Epoch 31/100\n",
      "10/10 [==============================] - 1s 109ms/step - loss: 0.5617 - accuracy: 0.7517 - val_loss: 0.5743 - val_accuracy: 0.7533\n",
      "Epoch 32/100\n",
      "10/10 [==============================] - 1s 100ms/step - loss: 0.5567 - accuracy: 0.7550 - val_loss: 0.5709 - val_accuracy: 0.7533\n",
      "Epoch 33/100\n",
      "10/10 [==============================] - 1s 110ms/step - loss: 0.5513 - accuracy: 0.7600 - val_loss: 0.5686 - val_accuracy: 0.7467\n",
      "Epoch 34/100\n",
      "10/10 [==============================] - 1s 101ms/step - loss: 0.5463 - accuracy: 0.7600 - val_loss: 0.5666 - val_accuracy: 0.7400\n",
      "Epoch 35/100\n",
      "10/10 [==============================] - 1s 100ms/step - loss: 0.5414 - accuracy: 0.7600 - val_loss: 0.5627 - val_accuracy: 0.7400\n",
      "Epoch 36/100\n",
      "10/10 [==============================] - 1s 109ms/step - loss: 0.5358 - accuracy: 0.7633 - val_loss: 0.5596 - val_accuracy: 0.7400\n",
      "Epoch 37/100\n",
      "10/10 [==============================] - 1s 100ms/step - loss: 0.5307 - accuracy: 0.7683 - val_loss: 0.5556 - val_accuracy: 0.7400\n",
      "Epoch 38/100\n",
      "10/10 [==============================] - 1s 110ms/step - loss: 0.5249 - accuracy: 0.7733 - val_loss: 0.5531 - val_accuracy: 0.7400\n",
      "Epoch 39/100\n",
      "10/10 [==============================] - 1s 100ms/step - loss: 0.5195 - accuracy: 0.7750 - val_loss: 0.5482 - val_accuracy: 0.7333\n",
      "Epoch 40/100\n",
      "10/10 [==============================] - 1s 109ms/step - loss: 0.5137 - accuracy: 0.7750 - val_loss: 0.5439 - val_accuracy: 0.7400\n",
      "Epoch 41/100\n",
      "10/10 [==============================] - 1s 101ms/step - loss: 0.5082 - accuracy: 0.7817 - val_loss: 0.5423 - val_accuracy: 0.7400\n",
      "Epoch 42/100\n",
      "10/10 [==============================] - 1s 100ms/step - loss: 0.5030 - accuracy: 0.7817 - val_loss: 0.5384 - val_accuracy: 0.7467\n",
      "Epoch 43/100\n",
      "10/10 [==============================] - 1s 109ms/step - loss: 0.4968 - accuracy: 0.7867 - val_loss: 0.5347 - val_accuracy: 0.7533\n",
      "Epoch 44/100\n",
      "10/10 [==============================] - 1s 101ms/step - loss: 0.4913 - accuracy: 0.7900 - val_loss: 0.5307 - val_accuracy: 0.7533\n",
      "Epoch 45/100\n",
      "10/10 [==============================] - 1s 109ms/step - loss: 0.4854 - accuracy: 0.8000 - val_loss: 0.5288 - val_accuracy: 0.7533\n",
      "Epoch 46/100\n",
      "10/10 [==============================] - 1s 101ms/step - loss: 0.4801 - accuracy: 0.8083 - val_loss: 0.5256 - val_accuracy: 0.7533\n",
      "Epoch 47/100\n",
      "10/10 [==============================] - 1s 100ms/step - loss: 0.4745 - accuracy: 0.8133 - val_loss: 0.5224 - val_accuracy: 0.7533\n",
      "Epoch 48/100\n",
      "10/10 [==============================] - 1s 110ms/step - loss: 0.4693 - accuracy: 0.8183 - val_loss: 0.5203 - val_accuracy: 0.7533\n",
      "Epoch 49/100\n",
      "10/10 [==============================] - 1s 110ms/step - loss: 0.4639 - accuracy: 0.8217 - val_loss: 0.5169 - val_accuracy: 0.7533\n",
      "Epoch 50/100\n",
      "10/10 [==============================] - 1s 101ms/step - loss: 0.4588 - accuracy: 0.8217 - val_loss: 0.5140 - val_accuracy: 0.7600\n",
      "Epoch 51/100\n",
      "10/10 [==============================] - 1s 101ms/step - loss: 0.4535 - accuracy: 0.8267 - val_loss: 0.5108 - val_accuracy: 0.7600\n",
      "Epoch 52/100\n",
      "10/10 [==============================] - 1s 101ms/step - loss: 0.4483 - accuracy: 0.8300 - val_loss: 0.5067 - val_accuracy: 0.7600\n",
      "Epoch 53/100\n",
      "10/10 [==============================] - 1s 109ms/step - loss: 0.4424 - accuracy: 0.8350 - val_loss: 0.5045 - val_accuracy: 0.7533\n",
      "Epoch 54/100\n",
      "10/10 [==============================] - 1s 109ms/step - loss: 0.4374 - accuracy: 0.8350 - val_loss: 0.5012 - val_accuracy: 0.7533\n",
      "Epoch 55/100\n",
      "10/10 [==============================] - 1s 101ms/step - loss: 0.4318 - accuracy: 0.8400 - val_loss: 0.4983 - val_accuracy: 0.7533\n",
      "Epoch 56/100\n",
      "10/10 [==============================] - 1s 110ms/step - loss: 0.4273 - accuracy: 0.8433 - val_loss: 0.4960 - val_accuracy: 0.7533\n",
      "Epoch 57/100\n",
      "10/10 [==============================] - 1s 101ms/step - loss: 0.4221 - accuracy: 0.8500 - val_loss: 0.4952 - val_accuracy: 0.7600\n",
      "Epoch 58/100\n",
      "10/10 [==============================] - 1s 100ms/step - loss: 0.4181 - accuracy: 0.8517 - val_loss: 0.4928 - val_accuracy: 0.7533\n",
      "Epoch 59/100\n",
      "10/10 [==============================] - 1s 101ms/step - loss: 0.4130 - accuracy: 0.8550 - val_loss: 0.4903 - val_accuracy: 0.7600\n",
      "Epoch 60/100\n",
      "10/10 [==============================] - 1s 101ms/step - loss: 0.4089 - accuracy: 0.8533 - val_loss: 0.4879 - val_accuracy: 0.7667\n",
      "Epoch 61/100\n",
      "10/10 [==============================] - 1s 101ms/step - loss: 0.4044 - accuracy: 0.8583 - val_loss: 0.4869 - val_accuracy: 0.7667\n",
      "Epoch 62/100\n",
      "10/10 [==============================] - 1s 100ms/step - loss: 0.4004 - accuracy: 0.8583 - val_loss: 0.4840 - val_accuracy: 0.7667\n",
      "Epoch 63/100\n",
      "10/10 [==============================] - 1s 101ms/step - loss: 0.3954 - accuracy: 0.8567 - val_loss: 0.4810 - val_accuracy: 0.7733\n",
      "Epoch 64/100\n",
      "10/10 [==============================] - 1s 109ms/step - loss: 0.3913 - accuracy: 0.8600 - val_loss: 0.4782 - val_accuracy: 0.7733\n",
      "Epoch 65/100\n",
      "10/10 [==============================] - 1s 101ms/step - loss: 0.3866 - accuracy: 0.8600 - val_loss: 0.4762 - val_accuracy: 0.7733\n",
      "Epoch 66/100\n",
      "10/10 [==============================] - 1s 110ms/step - loss: 0.3825 - accuracy: 0.8633 - val_loss: 0.4713 - val_accuracy: 0.7733\n",
      "Epoch 67/100\n",
      "10/10 [==============================] - 1s 110ms/step - loss: 0.3779 - accuracy: 0.8617 - val_loss: 0.4676 - val_accuracy: 0.7733\n",
      "Epoch 68/100\n",
      "10/10 [==============================] - 1s 101ms/step - loss: 0.3732 - accuracy: 0.8617 - val_loss: 0.4652 - val_accuracy: 0.7667\n",
      "Epoch 69/100\n",
      "10/10 [==============================] - 1s 100ms/step - loss: 0.3692 - accuracy: 0.8617 - val_loss: 0.4614 - val_accuracy: 0.7667\n",
      "Epoch 70/100\n",
      "10/10 [==============================] - 1s 100ms/step - loss: 0.3647 - accuracy: 0.8667 - val_loss: 0.4593 - val_accuracy: 0.7667\n",
      "Epoch 71/100\n",
      "10/10 [==============================] - 1s 101ms/step - loss: 0.3609 - accuracy: 0.8667 - val_loss: 0.4573 - val_accuracy: 0.7667\n",
      "Epoch 72/100\n",
      "10/10 [==============================] - 1s 110ms/step - loss: 0.3573 - accuracy: 0.8683 - val_loss: 0.4553 - val_accuracy: 0.7667\n",
      "Epoch 73/100\n",
      "10/10 [==============================] - 1s 100ms/step - loss: 0.3535 - accuracy: 0.8700 - val_loss: 0.4542 - val_accuracy: 0.7667\n",
      "Epoch 74/100\n",
      "10/10 [==============================] - 1s 109ms/step - loss: 0.3504 - accuracy: 0.8700 - val_loss: 0.4513 - val_accuracy: 0.7667\n",
      "Epoch 75/100\n",
      "10/10 [==============================] - 1s 100ms/step - loss: 0.3469 - accuracy: 0.8717 - val_loss: 0.4498 - val_accuracy: 0.7667\n",
      "Epoch 76/100\n",
      "10/10 [==============================] - 1s 110ms/step - loss: 0.3431 - accuracy: 0.8750 - val_loss: 0.4471 - val_accuracy: 0.7667\n",
      "Epoch 77/100\n",
      "10/10 [==============================] - 1s 109ms/step - loss: 0.3402 - accuracy: 0.8750 - val_loss: 0.4465 - val_accuracy: 0.7667\n",
      "Epoch 78/100\n",
      "10/10 [==============================] - 1s 101ms/step - loss: 0.3367 - accuracy: 0.8750 - val_loss: 0.4434 - val_accuracy: 0.7667\n",
      "Epoch 79/100\n",
      "10/10 [==============================] - 1s 101ms/step - loss: 0.3338 - accuracy: 0.8750 - val_loss: 0.4414 - val_accuracy: 0.7733\n",
      "Epoch 80/100\n",
      "10/10 [==============================] - 1s 109ms/step - loss: 0.3297 - accuracy: 0.8767 - val_loss: 0.4388 - val_accuracy: 0.7800\n",
      "Epoch 81/100\n",
      "10/10 [==============================] - 1s 101ms/step - loss: 0.3272 - accuracy: 0.8767 - val_loss: 0.4364 - val_accuracy: 0.7867\n",
      "Epoch 82/100\n",
      "10/10 [==============================] - 1s 100ms/step - loss: 0.3239 - accuracy: 0.8767 - val_loss: 0.4359 - val_accuracy: 0.7867\n",
      "Epoch 83/100\n",
      "10/10 [==============================] - 1s 101ms/step - loss: 0.3209 - accuracy: 0.8783 - val_loss: 0.4336 - val_accuracy: 0.7867\n",
      "Epoch 84/100\n",
      "10/10 [==============================] - 1s 109ms/step - loss: 0.3181 - accuracy: 0.8817 - val_loss: 0.4329 - val_accuracy: 0.7867\n",
      "Epoch 85/100\n",
      "10/10 [==============================] - 1s 109ms/step - loss: 0.3150 - accuracy: 0.8833 - val_loss: 0.4300 - val_accuracy: 0.7867\n",
      "Epoch 86/100\n",
      "10/10 [==============================] - 1s 100ms/step - loss: 0.3116 - accuracy: 0.8833 - val_loss: 0.4287 - val_accuracy: 0.7867\n",
      "Epoch 87/100\n",
      "10/10 [==============================] - 1s 110ms/step - loss: 0.3088 - accuracy: 0.8833 - val_loss: 0.4267 - val_accuracy: 0.7867\n",
      "Epoch 88/100\n",
      "10/10 [==============================] - 1s 101ms/step - loss: 0.3062 - accuracy: 0.8850 - val_loss: 0.4246 - val_accuracy: 0.7933\n",
      "Epoch 89/100\n",
      "10/10 [==============================] - 1s 100ms/step - loss: 0.3035 - accuracy: 0.8867 - val_loss: 0.4227 - val_accuracy: 0.7933\n",
      "Epoch 90/100\n",
      "10/10 [==============================] - 1s 101ms/step - loss: 0.3004 - accuracy: 0.8933 - val_loss: 0.4207 - val_accuracy: 0.8000\n",
      "Epoch 91/100\n",
      "10/10 [==============================] - 1s 100ms/step - loss: 0.2978 - accuracy: 0.8917 - val_loss: 0.4192 - val_accuracy: 0.8000\n",
      "Epoch 92/100\n",
      "10/10 [==============================] - 1s 109ms/step - loss: 0.2953 - accuracy: 0.8917 - val_loss: 0.4178 - val_accuracy: 0.8000\n",
      "Epoch 93/100\n",
      "10/10 [==============================] - 1s 101ms/step - loss: 0.2930 - accuracy: 0.8933 - val_loss: 0.4160 - val_accuracy: 0.8000\n",
      "Epoch 94/100\n",
      "10/10 [==============================] - 1s 100ms/step - loss: 0.2905 - accuracy: 0.8967 - val_loss: 0.4138 - val_accuracy: 0.8000\n",
      "Epoch 95/100\n",
      "10/10 [==============================] - 1s 101ms/step - loss: 0.2881 - accuracy: 0.8967 - val_loss: 0.4080 - val_accuracy: 0.8067\n",
      "Epoch 96/100\n",
      "10/10 [==============================] - 1s 101ms/step - loss: 0.2854 - accuracy: 0.8950 - val_loss: 0.4080 - val_accuracy: 0.8000\n",
      "Epoch 97/100\n",
      "10/10 [==============================] - 1s 101ms/step - loss: 0.2829 - accuracy: 0.8950 - val_loss: 0.4057 - val_accuracy: 0.8000\n",
      "Epoch 98/100\n",
      "10/10 [==============================] - 1s 100ms/step - loss: 0.2808 - accuracy: 0.8933 - val_loss: 0.4051 - val_accuracy: 0.7933\n",
      "Epoch 99/100\n",
      "10/10 [==============================] - 1s 101ms/step - loss: 0.2785 - accuracy: 0.8950 - val_loss: 0.4034 - val_accuracy: 0.7933\n",
      "Epoch 100/100\n",
      "10/10 [==============================] - 1s 100ms/step - loss: 0.2763 - accuracy: 0.8967 - val_loss: 0.4009 - val_accuracy: 0.7933\n"
     ]
    }
   ],
   "source": [
    "train_dataset = tf.data.Dataset.from_tensor_slices((X_train, Y_train)).batch(64)\n",
    "test_dataset = tf.data.Dataset.from_tensor_slices((X_test, Y_test)).batch(64)\n",
    "history = conv_model.fit(train_dataset, epochs=100, validation_data=test_dataset)"
   ]
  },
  {
   "cell_type": "markdown",
   "metadata": {},
   "source": [
    "<a name='5'></a>\n",
    "## 5 - History Object \n",
    "\n",
    "The history object is an output of the `.fit()` operation, and provides a record of all the loss and metric values in memory. It's stored as a dictionary that you can retrieve at `history.history`: "
   ]
  },
  {
   "cell_type": "code",
   "execution_count": 36,
   "metadata": {},
   "outputs": [
    {
     "data": {
      "text/plain": [
       "{'loss': [1.6813929080963135,\n",
       "  1.1443098783493042,\n",
       "  0.8415321707725525,\n",
       "  0.7190382480621338,\n",
       "  0.6909910440444946,\n",
       "  0.6824146509170532,\n",
       "  0.6767042279243469,\n",
       "  0.6711331605911255,\n",
       "  0.6668636202812195,\n",
       "  0.6628128290176392,\n",
       "  0.65897136926651,\n",
       "  0.654876708984375,\n",
       "  0.6510502696037292,\n",
       "  0.6468662023544312,\n",
       "  0.6425915956497192,\n",
       "  0.6382286548614502,\n",
       "  0.6339813470840454,\n",
       "  0.6292784810066223,\n",
       "  0.6245853900909424,\n",
       "  0.6195445656776428,\n",
       "  0.6148368120193481,\n",
       "  0.6098179817199707,\n",
       "  0.6050253510475159,\n",
       "  0.5995696187019348,\n",
       "  0.5936696529388428,\n",
       "  0.5880560278892517,\n",
       "  0.5833963751792908,\n",
       "  0.5778704285621643,\n",
       "  0.5722289681434631,\n",
       "  0.5670315027236938,\n",
       "  0.5617144107818604,\n",
       "  0.5566948056221008,\n",
       "  0.5513103008270264,\n",
       "  0.5463330745697021,\n",
       "  0.5413665175437927,\n",
       "  0.535843551158905,\n",
       "  0.5306835770606995,\n",
       "  0.5249404311180115,\n",
       "  0.5195323824882507,\n",
       "  0.5136553049087524,\n",
       "  0.5081560015678406,\n",
       "  0.5029816031455994,\n",
       "  0.49675190448760986,\n",
       "  0.4913245141506195,\n",
       "  0.48542484641075134,\n",
       "  0.48011305928230286,\n",
       "  0.474473774433136,\n",
       "  0.4692675769329071,\n",
       "  0.463886559009552,\n",
       "  0.45876872539520264,\n",
       "  0.4534798264503479,\n",
       "  0.44829386472702026,\n",
       "  0.4423656165599823,\n",
       "  0.43744391202926636,\n",
       "  0.4318130910396576,\n",
       "  0.42728331685066223,\n",
       "  0.42213818430900574,\n",
       "  0.41807878017425537,\n",
       "  0.41304734349250793,\n",
       "  0.4088885486125946,\n",
       "  0.40435799956321716,\n",
       "  0.4003809988498688,\n",
       "  0.3953973948955536,\n",
       "  0.39134976267814636,\n",
       "  0.38661137223243713,\n",
       "  0.382539838552475,\n",
       "  0.3779085576534271,\n",
       "  0.37316545844078064,\n",
       "  0.36916694045066833,\n",
       "  0.3647368550300598,\n",
       "  0.36085283756256104,\n",
       "  0.3573101758956909,\n",
       "  0.35353806614875793,\n",
       "  0.3504200577735901,\n",
       "  0.3468868136405945,\n",
       "  0.343129962682724,\n",
       "  0.34022974967956543,\n",
       "  0.33670616149902344,\n",
       "  0.3338223993778229,\n",
       "  0.32969897985458374,\n",
       "  0.32720693945884705,\n",
       "  0.3238949179649353,\n",
       "  0.32087981700897217,\n",
       "  0.3180721700191498,\n",
       "  0.31497496366500854,\n",
       "  0.3115966320037842,\n",
       "  0.3088105022907257,\n",
       "  0.30623459815979004,\n",
       "  0.30346566438674927,\n",
       "  0.3004343509674072,\n",
       "  0.2977774441242218,\n",
       "  0.2952790856361389,\n",
       "  0.2929931581020355,\n",
       "  0.2904726266860962,\n",
       "  0.28811588883399963,\n",
       "  0.2854236662387848,\n",
       "  0.2828640937805176,\n",
       "  0.28083670139312744,\n",
       "  0.2784762978553772,\n",
       "  0.2762562334537506],\n",
       " 'accuracy': [0.5,\n",
       "  0.5016666650772095,\n",
       "  0.5099999904632568,\n",
       "  0.5233333110809326,\n",
       "  0.5533333420753479,\n",
       "  0.5649999976158142,\n",
       "  0.57833331823349,\n",
       "  0.6150000095367432,\n",
       "  0.6066666841506958,\n",
       "  0.628333330154419,\n",
       "  0.6383333206176758,\n",
       "  0.6483333110809326,\n",
       "  0.653333306312561,\n",
       "  0.6616666913032532,\n",
       "  0.67166668176651,\n",
       "  0.6666666865348816,\n",
       "  0.6800000071525574,\n",
       "  0.6966666579246521,\n",
       "  0.6966666579246521,\n",
       "  0.7049999833106995,\n",
       "  0.7083333134651184,\n",
       "  0.7133333086967468,\n",
       "  0.7133333086967468,\n",
       "  0.7283333539962769,\n",
       "  0.7283333539962769,\n",
       "  0.7416666746139526,\n",
       "  0.7366666793823242,\n",
       "  0.7416666746139526,\n",
       "  0.7450000047683716,\n",
       "  0.7549999952316284,\n",
       "  0.7516666650772095,\n",
       "  0.7549999952316284,\n",
       "  0.7599999904632568,\n",
       "  0.7599999904632568,\n",
       "  0.7599999904632568,\n",
       "  0.7633333206176758,\n",
       "  0.7683333158493042,\n",
       "  0.7733333110809326,\n",
       "  0.7749999761581421,\n",
       "  0.7749999761581421,\n",
       "  0.7816666960716248,\n",
       "  0.7816666960716248,\n",
       "  0.7866666913032532,\n",
       "  0.7900000214576721,\n",
       "  0.800000011920929,\n",
       "  0.8083333373069763,\n",
       "  0.8133333325386047,\n",
       "  0.8183333277702332,\n",
       "  0.8216666579246521,\n",
       "  0.8216666579246521,\n",
       "  0.8266666531562805,\n",
       "  0.8299999833106995,\n",
       "  0.8349999785423279,\n",
       "  0.8349999785423279,\n",
       "  0.8399999737739563,\n",
       "  0.8433333039283752,\n",
       "  0.8500000238418579,\n",
       "  0.8516666889190674,\n",
       "  0.8550000190734863,\n",
       "  0.8533333539962769,\n",
       "  0.8583333492279053,\n",
       "  0.8583333492279053,\n",
       "  0.8566666841506958,\n",
       "  0.8600000143051147,\n",
       "  0.8600000143051147,\n",
       "  0.8633333444595337,\n",
       "  0.8616666793823242,\n",
       "  0.8616666793823242,\n",
       "  0.8616666793823242,\n",
       "  0.8666666746139526,\n",
       "  0.8666666746139526,\n",
       "  0.8683333396911621,\n",
       "  0.8700000047683716,\n",
       "  0.8700000047683716,\n",
       "  0.871666669845581,\n",
       "  0.875,\n",
       "  0.875,\n",
       "  0.875,\n",
       "  0.875,\n",
       "  0.8766666650772095,\n",
       "  0.8766666650772095,\n",
       "  0.8766666650772095,\n",
       "  0.878333330154419,\n",
       "  0.8816666603088379,\n",
       "  0.8833333253860474,\n",
       "  0.8833333253860474,\n",
       "  0.8833333253860474,\n",
       "  0.8849999904632568,\n",
       "  0.8866666555404663,\n",
       "  0.8933333158493042,\n",
       "  0.8916666507720947,\n",
       "  0.8916666507720947,\n",
       "  0.8933333158493042,\n",
       "  0.8966666460037231,\n",
       "  0.8966666460037231,\n",
       "  0.8949999809265137,\n",
       "  0.8949999809265137,\n",
       "  0.8933333158493042,\n",
       "  0.8949999809265137,\n",
       "  0.8966666460037231],\n",
       " 'val_loss': [1.3596992492675781,\n",
       "  0.9520106911659241,\n",
       "  0.7255386114120483,\n",
       "  0.6831653118133545,\n",
       "  0.6695631742477417,\n",
       "  0.6653755903244019,\n",
       "  0.6580325961112976,\n",
       "  0.6542788147926331,\n",
       "  0.6488645672798157,\n",
       "  0.6462659239768982,\n",
       "  0.6418067812919617,\n",
       "  0.6391077637672424,\n",
       "  0.6355119943618774,\n",
       "  0.6318509578704834,\n",
       "  0.6281633973121643,\n",
       "  0.6248288750648499,\n",
       "  0.6215047836303711,\n",
       "  0.6175165176391602,\n",
       "  0.613473117351532,\n",
       "  0.6097409725189209,\n",
       "  0.6071678400039673,\n",
       "  0.6035370826721191,\n",
       "  0.6006567478179932,\n",
       "  0.5953689813613892,\n",
       "  0.5919190049171448,\n",
       "  0.5893951654434204,\n",
       "  0.5872290134429932,\n",
       "  0.5821561813354492,\n",
       "  0.5799245238304138,\n",
       "  0.5766252875328064,\n",
       "  0.5743012428283691,\n",
       "  0.5708945989608765,\n",
       "  0.5685877203941345,\n",
       "  0.566615879535675,\n",
       "  0.5626936554908752,\n",
       "  0.5595803260803223,\n",
       "  0.5556417107582092,\n",
       "  0.5531467795372009,\n",
       "  0.5481660962104797,\n",
       "  0.5439361333847046,\n",
       "  0.5422948002815247,\n",
       "  0.538398027420044,\n",
       "  0.5347437262535095,\n",
       "  0.5306968092918396,\n",
       "  0.528818666934967,\n",
       "  0.5255674123764038,\n",
       "  0.5224252343177795,\n",
       "  0.5203283429145813,\n",
       "  0.5168963670730591,\n",
       "  0.513968288898468,\n",
       "  0.5107877850532532,\n",
       "  0.5066831707954407,\n",
       "  0.5045045018196106,\n",
       "  0.5012348294258118,\n",
       "  0.49834609031677246,\n",
       "  0.4959733486175537,\n",
       "  0.4952102601528168,\n",
       "  0.4927785098552704,\n",
       "  0.4902934730052948,\n",
       "  0.487883597612381,\n",
       "  0.4869402050971985,\n",
       "  0.48399361968040466,\n",
       "  0.4809929430484772,\n",
       "  0.4781852066516876,\n",
       "  0.4761993885040283,\n",
       "  0.4713379442691803,\n",
       "  0.4676415026187897,\n",
       "  0.46517571806907654,\n",
       "  0.4614393711090088,\n",
       "  0.45933446288108826,\n",
       "  0.4573287069797516,\n",
       "  0.4552503824234009,\n",
       "  0.4542357325553894,\n",
       "  0.45126983523368835,\n",
       "  0.449774831533432,\n",
       "  0.4471026659011841,\n",
       "  0.44645994901657104,\n",
       "  0.44335728883743286,\n",
       "  0.4413727819919586,\n",
       "  0.4388329088687897,\n",
       "  0.4363807737827301,\n",
       "  0.43592554330825806,\n",
       "  0.43360742926597595,\n",
       "  0.43285807967185974,\n",
       "  0.42999669909477234,\n",
       "  0.42874741554260254,\n",
       "  0.4267319142818451,\n",
       "  0.4245871603488922,\n",
       "  0.42274460196495056,\n",
       "  0.42068448662757874,\n",
       "  0.41919636726379395,\n",
       "  0.4178104102611542,\n",
       "  0.4159582555294037,\n",
       "  0.4138202369213104,\n",
       "  0.4080354869365692,\n",
       "  0.40803706645965576,\n",
       "  0.40569984912872314,\n",
       "  0.4050953984260559,\n",
       "  0.40341681241989136,\n",
       "  0.40089064836502075],\n",
       " 'val_accuracy': [0.4399999976158142,\n",
       "  0.47333332896232605,\n",
       "  0.5866666436195374,\n",
       "  0.6000000238418579,\n",
       "  0.6333333253860474,\n",
       "  0.6333333253860474,\n",
       "  0.6466666460037231,\n",
       "  0.6600000262260437,\n",
       "  0.6800000071525574,\n",
       "  0.699999988079071,\n",
       "  0.7133333086967468,\n",
       "  0.7066666483879089,\n",
       "  0.7200000286102295,\n",
       "  0.7333333492279053,\n",
       "  0.746666669845581,\n",
       "  0.753333330154419,\n",
       "  0.7599999904632568,\n",
       "  0.7599999904632568,\n",
       "  0.7666666507720947,\n",
       "  0.7666666507720947,\n",
       "  0.7599999904632568,\n",
       "  0.7666666507720947,\n",
       "  0.7599999904632568,\n",
       "  0.7666666507720947,\n",
       "  0.7599999904632568,\n",
       "  0.753333330154419,\n",
       "  0.753333330154419,\n",
       "  0.7599999904632568,\n",
       "  0.7400000095367432,\n",
       "  0.753333330154419,\n",
       "  0.753333330154419,\n",
       "  0.753333330154419,\n",
       "  0.746666669845581,\n",
       "  0.7400000095367432,\n",
       "  0.7400000095367432,\n",
       "  0.7400000095367432,\n",
       "  0.7400000095367432,\n",
       "  0.7400000095367432,\n",
       "  0.7333333492279053,\n",
       "  0.7400000095367432,\n",
       "  0.7400000095367432,\n",
       "  0.746666669845581,\n",
       "  0.753333330154419,\n",
       "  0.753333330154419,\n",
       "  0.753333330154419,\n",
       "  0.753333330154419,\n",
       "  0.753333330154419,\n",
       "  0.753333330154419,\n",
       "  0.753333330154419,\n",
       "  0.7599999904632568,\n",
       "  0.7599999904632568,\n",
       "  0.7599999904632568,\n",
       "  0.753333330154419,\n",
       "  0.753333330154419,\n",
       "  0.753333330154419,\n",
       "  0.753333330154419,\n",
       "  0.7599999904632568,\n",
       "  0.753333330154419,\n",
       "  0.7599999904632568,\n",
       "  0.7666666507720947,\n",
       "  0.7666666507720947,\n",
       "  0.7666666507720947,\n",
       "  0.7733333110809326,\n",
       "  0.7733333110809326,\n",
       "  0.7733333110809326,\n",
       "  0.7733333110809326,\n",
       "  0.7733333110809326,\n",
       "  0.7666666507720947,\n",
       "  0.7666666507720947,\n",
       "  0.7666666507720947,\n",
       "  0.7666666507720947,\n",
       "  0.7666666507720947,\n",
       "  0.7666666507720947,\n",
       "  0.7666666507720947,\n",
       "  0.7666666507720947,\n",
       "  0.7666666507720947,\n",
       "  0.7666666507720947,\n",
       "  0.7666666507720947,\n",
       "  0.7733333110809326,\n",
       "  0.7799999713897705,\n",
       "  0.7866666913032532,\n",
       "  0.7866666913032532,\n",
       "  0.7866666913032532,\n",
       "  0.7866666913032532,\n",
       "  0.7866666913032532,\n",
       "  0.7866666913032532,\n",
       "  0.7866666913032532,\n",
       "  0.7933333516120911,\n",
       "  0.7933333516120911,\n",
       "  0.800000011920929,\n",
       "  0.800000011920929,\n",
       "  0.800000011920929,\n",
       "  0.800000011920929,\n",
       "  0.800000011920929,\n",
       "  0.8066666722297668,\n",
       "  0.800000011920929,\n",
       "  0.800000011920929,\n",
       "  0.7933333516120911,\n",
       "  0.7933333516120911,\n",
       "  0.7933333516120911]}"
      ]
     },
     "execution_count": 36,
     "metadata": {},
     "output_type": "execute_result"
    }
   ],
   "source": [
    "history.history"
   ]
  },
  {
   "cell_type": "markdown",
   "metadata": {},
   "source": [
    "Now visualize the loss over time using `history.history`: "
   ]
  },
  {
   "cell_type": "code",
   "execution_count": 37,
   "metadata": {},
   "outputs": [
    {
     "data": {
      "text/plain": [
       "[Text(0, 0.5, 'Accuracy'), Text(0.5, 0, 'Epoch')]"
      ]
     },
     "execution_count": 37,
     "metadata": {},
     "output_type": "execute_result"
    },
    {
     "data": {
      "image/png": "[encoded data removed]",
      "text/plain": [
       "<Figure size 864x576 with 1 Axes>"
      ]
     },
     "metadata": {
      "needs_background": "light"
     },
     "output_type": "display_data"
    },
    {
     "data": {
      "image/png": "[encoded data removed]",
      "text/plain": [
       "<Figure size 864x576 with 1 Axes>"
      ]
     },
     "metadata": {
      "needs_background": "light"
     },
     "output_type": "display_data"
    }
   ],
   "source": [
    "# The history.history[\"loss\"] entry is a dictionary with as many values as epochs that the\n",
    "# model was trained on. \n",
    "df_loss_acc = pd.DataFrame(history.history)\n",
    "df_loss= df_loss_acc[['loss','val_loss']]\n",
    "df_loss.rename(columns={'loss':'train','val_loss':'validation'},inplace=True)\n",
    "df_acc= df_loss_acc[['accuracy','val_accuracy']]\n",
    "df_acc.rename(columns={'accuracy':'train','val_accuracy':'validation'},inplace=True)\n",
    "df_loss.plot(title='Model loss',figsize=(12,8)).set(xlabel='Epoch',ylabel='Loss')\n",
    "df_acc.plot(title='Model Accuracy',figsize=(12,8)).set(xlabel='Epoch',ylabel='Accuracy')"
   ]
  },
  {
   "cell_type": "markdown",
   "metadata": {},
   "source": [
    "**Congratulations**! You've finished the assignment and built two models: One that recognizes  smiles, and another that recognizes SIGN language with almost 80% accuracy on the test set. In addition to that, you now also understand the applications of two Keras APIs: Sequential and Functional. Nicely done! \n",
    "\n",
    "By now, you know a bit about how the Functional API works and may have glimpsed the possibilities. In your next assignment, you'll really get a feel for its power when you get the opportunity to build a very deep ConvNet, using ResNets! "
   ]
  },
  {
   "cell_type": "markdown",
   "metadata": {},
   "source": [
    "<a name='6'></a>\n",
    "## 6 - Bibliography\n",
    "\n",
    "You're always encouraged to read the official documentation. To that end, you can find the docs for the Sequential and Functional APIs here: \n",
    "\n",
    "https://www.tensorflow.org/guide/keras/sequential_model\n",
    "\n",
    "https://www.tensorflow.org/guide/keras/functional"
   ]
  }
 ],
 "metadata": {
  "coursera": {
   "course_slug": "convolutional-neural-networks",
   "graded_item_id": "bwbJV",
   "launcher_item_id": "0TkXB"
  },
  "kernelspec": {
   "display_name": "Python 3",
   "language": "python",
   "name": "python3"
  },
  "language_info": {
   "codemirror_mode": {
    "name": "ipython",
    "version": 3
   },
   "file_extension": ".py",
   "mimetype": "text/x-python",
   "name": "python",
   "nbconvert_exporter": "python",
   "pygments_lexer": "ipython3",
   "version": "3.7.6"
  }
 },
 "nbformat": 4,
 "nbformat_minor": 2
}
